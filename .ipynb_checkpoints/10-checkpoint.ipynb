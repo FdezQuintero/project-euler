{
 "cells": [
  {
   "cell_type": "markdown",
   "metadata": {},
   "source": [
    "The sum of the primes below 10 is 2 + 3 + 5 + 7 = 17.\n",
    "\n",
    "Find the sum of all the primes below two million."
   ]
  },
  {
   "cell_type": "code",
   "execution_count": null,
   "metadata": {},
   "outputs": [],
   "source": [
    "#PRIME CALCULATOR\n",
    "n=3\n",
    "suma=2\n",
    "prime=False\n",
    "while(n<2000000):\n",
    "    a=0\n",
    "    i=2\n",
    "    for i in range(2,n):\n",
    "        if(n%i!=0):\n",
    "            a=a+1\n",
    "    a=a+2\n",
    "    if(a==n):\n",
    "        prime=True\n",
    "    if(prime==True):\n",
    "        print(n)\n",
    "        suma=suma+n\n",
    "    n=n+2\n",
    "    prime=False\n",
    "print(suma)"
   ]
  },
  {
   "cell_type": "code",
   "execution_count": null,
   "metadata": {
    "collapsed": true
   },
   "outputs": [],
   "source": []
  }
 ],
 "metadata": {
  "kernelspec": {
   "display_name": "Python 3",
   "language": "python",
   "name": "python3"
  },
  "language_info": {
   "codemirror_mode": {
    "name": "ipython",
    "version": 3
   },
   "file_extension": ".py",
   "mimetype": "text/x-python",
   "name": "python",
   "nbconvert_exporter": "python",
   "pygments_lexer": "ipython3",
   "version": "3.5.3"
  }
 },
 "nbformat": 4,
 "nbformat_minor": 2
}
