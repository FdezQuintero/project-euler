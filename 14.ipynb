{
 "cells": [
  {
   "cell_type": "markdown",
   "metadata": {},
   "source": [
    "The following iterative sequence is defined for the set of positive integers:\n",
    "\n",
    "n → n/2 (n is even)\n",
    "n → 3n + 1 (n is odd)\n",
    "\n",
    "Using the rule above and starting with 13, we generate the following sequence:\n",
    "13 → 40 → 20 → 10 → 5 → 16 → 8 → 4 → 2 → 1\n",
    "\n",
    "It can be seen that this sequence (starting at 13 and finishing at 1) contains 10 terms. Although it has not been proved yet (Collatz Problem), it is thought that all starting numbers finish at 1.\n",
    "\n",
    "Which starting number, under one million, produces the longest chain?\n",
    "\n",
    "NOTE: Once the chain starts the terms are allowed to go above one million."
   ]
  },
  {
   "cell_type": "code",
   "execution_count": 15,
   "metadata": {},
   "outputs": [
    {
     "name": "stdout",
     "output_type": "stream",
     "text": [
      "50\n",
      "25\n",
      "76\n",
      "38\n",
      "19\n",
      "58\n",
      "29\n",
      "88\n",
      "44\n",
      "22\n",
      "11\n",
      "34\n",
      "17\n",
      "52\n",
      "26\n",
      "13\n",
      "40\n",
      "20\n",
      "10\n",
      "5\n",
      "16\n",
      "8\n",
      "4\n",
      "2\n",
      "1\n",
      "Se han dado los siguientes pasos: 24\n"
     ]
    }
   ],
   "source": [
    "n=50\n",
    "print(n)\n",
    "steps=0\n",
    "while(n!=1):\n",
    "    if(n%2==0):\n",
    "        n=n/2\n",
    "    else:\n",
    "        n=3*n+1\n",
    "    steps=steps+1\n",
    "    print(int(n))\n",
    "print(\"Se han dado los siguientes pasos:\", steps)"
   ]
  },
  {
   "cell_type": "code",
   "execution_count": 25,
   "metadata": {},
   "outputs": [
    {
     "name": "stdout",
     "output_type": "stream",
     "text": [
      "El máximo número de pasos es: 524\n",
      "La solución del problema es: 837799\n"
     ]
    }
   ],
   "source": [
    "a=1\n",
    "maximo=0\n",
    "result=0\n",
    "for a in range(1,1000000):\n",
    "    n=a\n",
    "    steps=0\n",
    "    while(n!=1):\n",
    "        if(n%2==0):\n",
    "            n=n/2\n",
    "        else:\n",
    "            n=3*n+1\n",
    "        steps=steps+1\n",
    "    if(steps>maximo):\n",
    "        maximo=steps\n",
    "        result=a\n",
    "print(\"El máximo número de pasos es:\", maximo)\n",
    "print(\"La solución del problema es:\", result)"
   ]
  },
  {
   "cell_type": "code",
   "execution_count": null,
   "metadata": {
    "collapsed": true
   },
   "outputs": [],
   "source": []
  }
 ],
 "metadata": {
  "kernelspec": {
   "display_name": "Python 3",
   "language": "python",
   "name": "python3"
  },
  "language_info": {
   "codemirror_mode": {
    "name": "ipython",
    "version": 3
   },
   "file_extension": ".py",
   "mimetype": "text/x-python",
   "name": "python",
   "nbconvert_exporter": "python",
   "pygments_lexer": "ipython3",
   "version": "3.5.3"
  }
 },
 "nbformat": 4,
 "nbformat_minor": 2
}
