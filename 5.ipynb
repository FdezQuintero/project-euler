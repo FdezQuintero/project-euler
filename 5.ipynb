{
 "cells": [
  {
   "cell_type": "markdown",
   "metadata": {},
   "source": [
    "2520 is the smallest number that can be divided by each of the numbers from 1 to 10 without any remainder.\n",
    "\n",
    "What is the smallest positive number that is evenly divisible by all of the numbers from 1 to 20?"
   ]
  },
  {
   "cell_type": "code",
   "execution_count": 4,
   "metadata": {},
   "outputs": [
    {
     "data": {
      "text/plain": [
       "0"
      ]
     },
     "execution_count": 4,
     "metadata": {},
     "output_type": "execute_result"
    }
   ],
   "source": [
    "20%20"
   ]
  },
  {
   "cell_type": "code",
   "execution_count": 12,
   "metadata": {},
   "outputs": [
    {
     "name": "stdout",
     "output_type": "stream",
     "text": [
      "232792560\n"
     ]
    }
   ],
   "source": [
    "result = 0\n",
    "i=20\n",
    "while(result == 0):\n",
    "    if(i%2==0):\n",
    "        if(i%3==0):\n",
    "            if(i%4==0):\n",
    "                if(i%5==0):\n",
    "                    if(i%6==0):\n",
    "                        if(i%7==0):\n",
    "                            if(i%8==0):\n",
    "                                if(i%9==0):\n",
    "                                    if(i%10==0):\n",
    "                                        if(i%11==0):\n",
    "                                            if(i%12==0):\n",
    "                                                if(i%13==0):\n",
    "                                                    if(i%14==0):\n",
    "                                                        if(i%15==0):\n",
    "                                                            if(i%16==0):\n",
    "                                                                if(i%17==0):\n",
    "                                                                    if(i%18==0):\n",
    "                                                                        if(i%19==0):\n",
    "                                                                            if(i%20==0):\n",
    "                                                                                result=i\n",
    "    i=i+1\n",
    "print(result)"
   ]
  }
 ],
 "metadata": {
  "kernelspec": {
   "display_name": "Python 3",
   "language": "python",
   "name": "python3"
  },
  "language_info": {
   "codemirror_mode": {
    "name": "ipython",
    "version": 3
   },
   "file_extension": ".py",
   "mimetype": "text/x-python",
   "name": "python",
   "nbconvert_exporter": "python",
   "pygments_lexer": "ipython3",
   "version": "3.5.3"
  }
 },
 "nbformat": 4,
 "nbformat_minor": 2
}
