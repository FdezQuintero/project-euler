{
 "cells": [
  {
   "cell_type": "markdown",
   "metadata": {},
   "source": [
    "A palindromic number reads the same both ways. The largest palindrome made from the product of two 2-digit numbers is 9009 = 91 × 99.\n",
    "\n",
    "Find the largest palindrome made from the product of two 3-digit numbers."
   ]
  },
  {
   "cell_type": "code",
   "execution_count": 4,
   "metadata": {},
   "outputs": [
    {
     "name": "stdout",
     "output_type": "stream",
     "text": [
      "906609\n"
     ]
    }
   ],
   "source": [
    "#AAA x BBB = GOAL\n",
    "GOAL = 0\n",
    "MAX = 0\n",
    "for AAA in range(100,1000):\n",
    "    for BBB in range(100,1000):\n",
    "        GOAL = str(AAA*BBB)\n",
    "        #Code for finding if the number is a palindrome:\n",
    "        #First we need to know the length of the number:\n",
    "        length = len(GOAL)\n",
    "        #If the number is odd, we can erase the middle digit\n",
    "        mid = length//2\n",
    "        if (length%2==0):\n",
    "            LEFT=GOAL[mid:]\n",
    "            RIGHT=GOAL[:mid]\n",
    "        else:\n",
    "            LEFT=GOAL[(mid+1):]\n",
    "            RIGHT=GOAL[:mid]\n",
    "        #Now we need to reverse RIGHT:\n",
    "        RIGHT=RIGHT[::-1]\n",
    "        if(RIGHT==LEFT):\n",
    "            if(int(GOAL)>int(MAX)):\n",
    "                MAX=GOAL\n",
    "print(MAX)"
   ]
  }
 ],
 "metadata": {
  "kernelspec": {
   "display_name": "Python 3",
   "language": "python",
   "name": "python3"
  },
  "language_info": {
   "codemirror_mode": {
    "name": "ipython",
    "version": 3
   },
   "file_extension": ".py",
   "mimetype": "text/x-python",
   "name": "python",
   "nbconvert_exporter": "python",
   "pygments_lexer": "ipython3",
   "version": "3.5.3"
  }
 },
 "nbformat": 4,
 "nbformat_minor": 2
}
