{
 "cells": [
  {
   "cell_type": "markdown",
   "metadata": {},
   "source": [
    "By listing the first six prime numbers: 2, 3, 5, 7, 11, and 13, we can see that the 6th prime is 13.\n",
    "\n",
    "What is the 10 001st prime number?"
   ]
  },
  {
   "cell_type": "code",
   "execution_count": 1,
   "metadata": {},
   "outputs": [
    {
     "name": "stdout",
     "output_type": "stream",
     "text": [
      "104743 is the last prime\n"
     ]
    }
   ],
   "source": [
    "#PRIME CALCULATOR\n",
    "n=3\n",
    "total=1\n",
    "prime=False\n",
    "while(total<10001):\n",
    "    a=0\n",
    "    i=2\n",
    "    for i in range(2,n):\n",
    "        if(n%i!=0):\n",
    "            a=a+1\n",
    "    a=a+2\n",
    "    if(a==n):\n",
    "        prime=True\n",
    "    #Update counter if prime\n",
    "    if(prime==True):\n",
    "        total=total+1\n",
    "    n=n+2\n",
    "    prime=False\n",
    "print((n-2),\"is the last prime\")"
   ]
  }
 ],
 "metadata": {
  "kernelspec": {
   "display_name": "Python 3",
   "language": "python",
   "name": "python3"
  },
  "language_info": {
   "codemirror_mode": {
    "name": "ipython",
    "version": 3
   },
   "file_extension": ".py",
   "mimetype": "text/x-python",
   "name": "python",
   "nbconvert_exporter": "python",
   "pygments_lexer": "ipython3",
   "version": "3.5.3"
  }
 },
 "nbformat": 4,
 "nbformat_minor": 2
}
